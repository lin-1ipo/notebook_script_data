{
 "cells": [
  {
   "cell_type": "code",
   "execution_count": 1,
   "metadata": {},
   "outputs": [],
   "source": [
    "import scrapy\n",
    "\n",
    "class BlogSpider(scrapy.Spider):\n",
    "    # Spiderの名前\n",
    "    name = 'blogspider'\n",
    "    # クロールを開始するURLのリスト\n",
    "    start_urls = ['https://blog.scrapinghub.com']\n",
    "\n",
    "    def parse(self, response):\n",
    "        \"\"\"\n",
    "        トップページからカテゴリページへのリンクを抜き出してたどる。\n",
    "        \"\"\"\n",
    "        for url in response.css('ul li a::attr(\"href\")').re('.*/category/.*'):\n",
    "            yield scrapy.Request(response.urljoin(url), self.parse_titles)\n",
    "    \n",
    "    def parse_titles(self, response):\n",
    "        \"\"\"\n",
    "        カテゴリページからそのカテゴリの投稿のタイトルをすべて抜き出す。\n",
    "        \"\"\"\n",
    "        for post_title in response.css('div.entries > ul > li a::text').extract():\n",
    "            yield {'title': post_title}"
   ]
  },
  {
   "cell_type": "code",
   "execution_count": 3,
   "metadata": {},
   "outputs": [
    {
     "name": "stdout",
     "output_type": "stream",
     "text": [
      "a\n"
     ]
    }
   ],
   "source": [
    "!echo a"
   ]
  },
  {
   "cell_type": "code",
   "execution_count": null,
   "metadata": {},
   "outputs": [],
   "source": []
  }
 ],
 "metadata": {
  "kernelspec": {
   "display_name": "Python 3",
   "language": "python",
   "name": "python3"
  },
  "language_info": {
   "codemirror_mode": {
    "name": "ipython",
    "version": 3
   },
   "file_extension": ".py",
   "mimetype": "text/x-python",
   "name": "python",
   "nbconvert_exporter": "python",
   "pygments_lexer": "ipython3",
   "version": "3.6.4"
  }
 },
 "nbformat": 4,
 "nbformat_minor": 2
}
